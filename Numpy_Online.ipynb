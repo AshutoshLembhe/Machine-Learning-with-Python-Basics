{
 "cells": [
  {
   "cell_type": "markdown",
   "metadata": {},
   "source": [
    "# Welcome to Numpy!\n",
    "\n",
    "### Pre-requisites for this tutorial : \n",
    "* Basics of Python\n"
   ]
  },
  {
   "cell_type": "markdown",
   "metadata": {},
   "source": [
    "## What is Numpy?\n",
    "\n",
    "***numpy*** is a Python library, adding support for large, multi-dimensional arrays and matrices, along with a large collection of high-level mathematical functions to operate on these arrays. numpy = numeric python.\n",
    "\n",
    "numpy works under the hood of many packages like pandas, scikit-learn and more. So fundamental understanding of how it works is important to have a hassle free experience with others. Join me in Learning"
   ]
  },
  {
   "cell_type": "markdown",
   "metadata": {},
   "source": [
    "## Importing package"
   ]
  },
  {
   "cell_type": "code",
   "execution_count": 48,
   "metadata": {},
   "outputs": [],
   "source": [
    "import numpy as np"
   ]
  },
  {
   "cell_type": "markdown",
   "metadata": {},
   "source": [
    "np is an object for numpy package. If you don't want, class itself can be used as such.\n",
    "For eg., you can use, numpy.array()"
   ]
  },
  {
   "cell_type": "markdown",
   "metadata": {},
   "source": [
    "## Creating Arrays"
   ]
  },
  {
   "cell_type": "code",
   "execution_count": 49,
   "metadata": {},
   "outputs": [
    {
     "name": "stdout",
     "output_type": "stream",
     "text": [
      "1D array:  [1 2 3 4 5 6]\n",
      "2D array:  \n",
      " [[1 2 3]\n",
      " [4 5 6]\n",
      " [7 8 9]]\n"
     ]
    }
   ],
   "source": [
    "arr1 = np.array([1,2,3,4,5,6])\n",
    "print(\"1D array: \", arr1)\n",
    "arr2 = np.array([[1,2,3],[4,5,6],[7,8,9]])\n",
    "print(\"2D array: \", \"\\n\",arr2)"
   ]
  },
  {
   "cell_type": "markdown",
   "metadata": {},
   "source": [
    "## Understanding attributes of arrays"
   ]
  },
  {
   "cell_type": "code",
   "execution_count": 50,
   "metadata": {},
   "outputs": [
    {
     "name": "stdout",
     "output_type": "stream",
     "text": [
      "About arr2:\n",
      "Type\t\t: <class 'numpy.ndarray'>\n",
      "Datatype\t: int32\n",
      "Shape\t\t: (3, 3)\n",
      "Size\t\t: 9\n",
      "itemsize\t: 4\n",
      "No. of dim\t: 2\n",
      "No. of bytes\t: 36\n"
     ]
    }
   ],
   "source": [
    "print(\"About arr2:\")\n",
    "print(\"Type\\t\\t:\" ,type(arr2))\n",
    "print(\"Datatype\\t:\",arr2.dtype)\n",
    "print(\"Shape\\t\\t:\", arr2.shape)\n",
    "print(\"Size\\t\\t:\",arr2.size)\n",
    "print(\"itemsize\\t:\",arr2.itemsize)\n",
    "print(\"No. of dim\\t:\",arr2.ndim)\n",
    "print(\"No. of bytes\\t:\", arr2.nbytes)"
   ]
  },
  {
   "cell_type": "markdown",
   "metadata": {},
   "source": [
    "## Creating Special arrays"
   ]
  },
  {
   "cell_type": "code",
   "execution_count": 51,
   "metadata": {},
   "outputs": [
    {
     "name": "stdout",
     "output_type": "stream",
     "text": [
      "Zero Array \t:\n",
      " [[0 0]\n",
      " [0 0]\n",
      " [0 0]\n",
      " [0 0]\n",
      " [0 0]]\n",
      "Arrays with unit values\t:\n",
      " [[1. 1. 1. 1.]\n",
      " [1. 1. 1. 1.]\n",
      " [1. 1. 1. 1.]]\n",
      "Identity matrix\t:\n",
      " [[1. 0. 0.]\n",
      " [0. 1. 0.]\n",
      " [0. 0. 1.]\n",
      " [0. 0. 0.]]\n",
      "Random array\t\n",
      " [[0.87894675 0.61137023]\n",
      " [0.0417395  0.58913748]\n",
      " [0.56503492 0.63855696]]\n",
      "Random integer array\t:\n",
      " [[4 2 3 1 5 0]\n",
      " [2 3 5 1 3 6]]\n"
     ]
    }
   ],
   "source": [
    "arr3 = np.zeros((5,2), dtype=int)\n",
    "arr4 = np.ones((3,4),dtype=float)\n",
    "arr5 = np.eye(4,3)\n",
    "arr6 = np.random.rand(3,2)\n",
    "arr7 = np.random.randint(7,size=(2,6))\n",
    "print(\"Zero Array \\t:\\n\",arr3)\n",
    "print(\"Arrays with unit values\\t:\\n\",arr4)\n",
    "print(\"Identity matrix\\t:\\n\",arr5)\n",
    "print(\"Random array\\t\\n\",arr6)\n",
    "print(\"Random integer array\\t:\\n\" , arr7)"
   ]
  },
  {
   "cell_type": "markdown",
   "metadata": {},
   "source": [
    "## Creating arrays using \"arange\")\n",
    "creates an array having elements from start to stop-1 in step of \"step\" value.\n",
    "Interval is known and set by developer(step).\n",
    "\n",
    "arange(start,stop,step)"
   ]
  },
  {
   "cell_type": "code",
   "execution_count": 52,
   "metadata": {},
   "outputs": [
    {
     "name": "stdout",
     "output_type": "stream",
     "text": [
      "Array created with arange: \t\n",
      " [1 3 5 7 9]\n"
     ]
    }
   ],
   "source": [
    "arr8 = np.arange(1,10,2)\n",
    "print(\"Array created with arange: \\t\\n\",arr8)"
   ]
  },
  {
   "cell_type": "markdown",
   "metadata": {},
   "source": [
    "## Creating arrays using \"linspace\"\n",
    "linspace creates an array within the range.\n",
    "    Number of elements to be created is fixed and the interval between the elements is calculated by the system.\n",
    "    linspace will include the last value(stop)"
   ]
  },
  {
   "cell_type": "code",
   "execution_count": 53,
   "metadata": {},
   "outputs": [
    {
     "name": "stdout",
     "output_type": "stream",
     "text": [
      "Array created using linspace requesting 50 elements within 1 to 10:\t\n",
      " [ 1.          1.18367347  1.36734694  1.55102041  1.73469388  1.91836735\n",
      "  2.10204082  2.28571429  2.46938776  2.65306122  2.83673469  3.02040816\n",
      "  3.20408163  3.3877551   3.57142857  3.75510204  3.93877551  4.12244898\n",
      "  4.30612245  4.48979592  4.67346939  4.85714286  5.04081633  5.2244898\n",
      "  5.40816327  5.59183673  5.7755102   5.95918367  6.14285714  6.32653061\n",
      "  6.51020408  6.69387755  6.87755102  7.06122449  7.24489796  7.42857143\n",
      "  7.6122449   7.79591837  7.97959184  8.16326531  8.34693878  8.53061224\n",
      "  8.71428571  8.89795918  9.08163265  9.26530612  9.44897959  9.63265306\n",
      "  9.81632653 10.        ]\n"
     ]
    }
   ],
   "source": [
    "arr9 = np.linspace(1,10,50)\n",
    "print(\"Array created using linspace requesting 50 elements within 1 to 10:\\t\\n\",arr9)"
   ]
  },
  {
   "attachments": {
    "image.png": {
     "image/png": "[encoded data removed]"
    }
   },
   "cell_type": "markdown",
   "metadata": {},
   "source": [
    "## Slicing \n",
    "\n",
    "Inside [], the dimensions are seperated by commas.\n",
    "For eg., arr9[3,4] represents the element in 4th row and 5th column\n",
    "![image.png](attachment:image.png)"
   ]
  },
  {
   "cell_type": "code",
   "execution_count": 54,
   "metadata": {},
   "outputs": [
    {
     "name": "stdout",
     "output_type": "stream",
     "text": [
      "[[ 1  2  3  4  5]\n",
      " [ 6  7  8  9 10]\n",
      " [11 12 13 14 15]\n",
      " [16 17 18 19 20]]\n",
      "Row 2: [ 6  7  8  9 10]\n",
      "Column 2: [ 4  9 14 19]\n",
      "Elements 7,8,12,13 :\n",
      " [[ 7  8]\n",
      " [12 13]]\n",
      "All elements: \n",
      " [[ 1  2  3  4  5]\n",
      " [ 6  7  8  9 10]\n",
      " [11 12 13 14 15]\n",
      " [16 17 18 19 20]]\n",
      "Strides:\n",
      " [[ 2  3]\n",
      " [12 13]]\n"
     ]
    }
   ],
   "source": [
    "arr10 = np.array([[1,2,3,4,5],[6,7,8,9,10],[11,12,13,14,15],[16,17,18,19,20]])\n",
    "print(arr10)\n",
    "print(\"Row 2:\",arr10[1,:])\n",
    "print(\"Column 2:\",arr10[:,3])\n",
    "print(\"Elements 7,8,12,13 :\\n\", arr10[1:3,1:3])\n",
    "print(\"All elements: \\n\",arr10[::])\n",
    "print(\"Strides:\\n\",arr10[0::2,1:3])"
   ]
  },
  {
   "cell_type": "markdown",
   "metadata": {},
   "source": [
    "## Masking - Important concept in Image processing"
   ]
  },
  {
   "cell_type": "code",
   "execution_count": 58,
   "metadata": {},
   "outputs": [
    {
     "name": "stdout",
     "output_type": "stream",
     "text": [
      "[2 3 5 7]\n"
     ]
    }
   ],
   "source": [
    "arr11 = np.array([1,2,3,4,5,6,7,8,9])\n",
    "mask = np.array([0,1,1,0,1,0,1,0,0],dtype=bool)\n",
    "print(arr11[mask])"
   ]
  },
  {
   "cell_type": "markdown",
   "metadata": {},
   "source": [
    "## Some more methods"
   ]
  },
  {
   "cell_type": "code",
   "execution_count": 81,
   "metadata": {},
   "outputs": [
    {
     "name": "stdout",
     "output_type": "stream",
     "text": [
      "[[1 2 3 4 5]\n",
      " [6 7 8 9 9]]\n",
      "Sum :\t 54\n",
      "Sum :\t [ 7  9 11 13 14]\n",
      "Prod :\t 3265920\n",
      "Prod :\t [ 6 14 24 36 45]\n",
      "Minimum :\t [1 2 3 4 5]\n",
      "Maximum :\t [6 7 8 9 9]\n",
      "Mean :\t [3.5 4.5 5.5 6.5 7. ]\n",
      "Variance:\t [6.25 6.25 6.25 6.25 4.  ]\n",
      "Standard Deviation:\t [2.5 2.5 2.5 2.5 2. ]\n",
      "Average:\t [3.5 4.5 5.5 6.5 7. ]\n",
      "Weighted Average:\t [3.66666667 8.33333333]\n"
     ]
    }
   ],
   "source": [
    "arr12 = np.array([[1,2,3,4,5],[6,7,8,9,9]])\n",
    "print(arr12)\n",
    "print(\"Sum :\\t\",np.sum(arr12))\n",
    "print(\"Sum :\\t\",np.sum(arr12,axis=0))\n",
    "print(\"Prod :\\t\",np.prod(arr12))\n",
    "print(\"Prod :\\t\",np.prod(arr12,axis=0))\n",
    "print(\"Minimum :\\t\",np.min(arr12,axis=0))\n",
    "print(\"Maximum :\\t\",np.max(arr12,axis=0))\n",
    "print(\"Mean :\\t\",np.mean(arr12,axis=0))\n",
    "print(\"Variance:\\t\",np.var(arr12,axis=0))\n",
    "print(\"Standard Deviation:\\t\",np.std(arr12,axis=0))\n",
    "print(\"Average:\\t\",np.average(arr12,axis=0))\n",
    "print(\"Weighted Average:\\t\",np.average(arr12,weights=[1,2,3,4,5],axis=1))"
   ]
  },
  {
   "cell_type": "markdown",
   "metadata": {},
   "source": [
    "## Scalar Operations - Arithmetic"
   ]
  },
  {
   "cell_type": "code",
   "execution_count": 88,
   "metadata": {},
   "outputs": [
    {
     "name": "stdout",
     "output_type": "stream",
     "text": [
      "Summation:\t [5 7 9]\n",
      "Difference:\t [-3 -3 -3]\n",
      "Previous output after adding 5: [2 2 2]\n"
     ]
    }
   ],
   "source": [
    "arr13 = np.array([1,2,3])\n",
    "arr14 = np.array([4,5,6])\n",
    "arr15 = arr13+arr14\n",
    "arr16 = arr13 - arr14\n",
    "print(\"Summation:\\t\",arr15)\n",
    "print(\"Difference:\\t\",arr16)\n",
    "\n",
    "arr16+=5\n",
    "print(\"Previous output after adding 5:\",arr16)\n",
    "\n",
    "###  Try other operations\n",
    "\n"
   ]
  },
  {
   "cell_type": "markdown",
   "metadata": {},
   "source": [
    "## Relational Operations"
   ]
  },
  {
   "cell_type": "code",
   "execution_count": 95,
   "metadata": {},
   "outputs": [
    {
     "name": "stdout",
     "output_type": "stream",
     "text": [
      "[False False False]\n"
     ]
    }
   ],
   "source": [
    "result1 = arr16 == arr15\n",
    "print(result1)\n",
    "\n",
    "### Try other relational operations <<result2 to result6\n"
   ]
  },
  {
   "cell_type": "markdown",
   "metadata": {},
   "source": [
    "## Trignometric & Logarithmic operations"
   ]
  },
  {
   "cell_type": "code",
   "execution_count": 99,
   "metadata": {},
   "outputs": [
    {
     "name": "stdout",
     "output_type": "stream",
     "text": [
      "Sin values:\t [ 0.65028784 -0.98803162  0.85090352  0.89399666]\n",
      "Log value:\t [2.7080502  3.40119738 3.80666249 4.49980967]\n"
     ]
    }
   ],
   "source": [
    "arr17 = np.array([15,30,45,90])\n",
    "result7 = np.sin(arr17)\n",
    "print(\"Sin values:\\t\",result7)\n",
    "result8 = np.log(arr17)\n",
    "print(\"Log value:\\t\",result8)\n",
    "\n",
    "### Try other operations"
   ]
  },
  {
   "cell_type": "markdown",
   "metadata": {},
   "source": [
    "## Vector operations"
   ]
  },
  {
   "cell_type": "markdown",
   "metadata": {},
   "source": [
    "### Math - Scalar and Vector\n",
    "\n",
    "#### Scalar\n",
    "\n",
    "* np.add(a,1) -> Add 1 to each array element\n",
    "* np.subtract(a,2) -> Subtract 2 from each array element\n",
    "* np.multiply(a,3) -> Multiply each array element by 3\n",
    "* np.divide(a,4) -> Divide each array element by 4 (it returns np.nan for division by zero)\n",
    "* np.power(a,5) -> Raise each array element to the 5th power\n",
    "\n",
    "#### Vector Math\n",
    "\n",
    "* np.add(a1,a2) -> Elementwise add a2 to a1\n",
    "* np.subtract(a1,a2) -> Elementwise subtract a2 from a1\n",
    "* np.multiply(a1,a2) -> Elementwise multiply a1 by a2\n",
    "* np.divide(a1,a2) -> Elementwise divide a1 by a2\n",
    "* np.power(a1,a2) -> Elementwise raise a1 raised to the power of a2\n",
    "\n",
    "* np.array_equal(a1,a2) -> Returns True if the arrays have the same elements and shape *(Note - a1 == a2 -> Returns True if the arrays have the same elements)*\n",
    "* np.sqrt(a) -> Square root of each element in the array\n",
    "* np.round(a) -> Rounds to the nearest int"
   ]
  },
  {
   "cell_type": "code",
   "execution_count": 82,
   "metadata": {},
   "outputs": [],
   "source": [
    "#Try them out"
   ]
  },
  {
   "cell_type": "markdown",
   "metadata": {},
   "source": [
    "### Statistical Analysis\n",
    "\n",
    "* np.mean(a) -> Returns mean along specific axis\n",
    "* np.sum(a) -> Returns sum of all values in a\n",
    "* a.min() -> Returns minimum value of a\n",
    "* a.max() -> Returns maximum value of specific axis\n",
    "\n",
    "A few more for you to discover - \n",
    "* np.var(a)\n",
    "* np.std(a)\n",
    "* arr.corrcoef()"
   ]
  },
  {
   "cell_type": "code",
   "execution_count": 83,
   "metadata": {},
   "outputs": [],
   "source": [
    "#Try them out"
   ]
  },
  {
   "cell_type": "markdown",
   "metadata": {},
   "source": [
    "### Summation for thought - \n",
    "\n",
    "Are all these same?\n",
    "\n",
    "1. sum_value = np.sum(a)\n",
    "2. columnSum = np.sum(a, axis = 0)\n",
    "3. rowSum = np.sum(a, axis = 1)"
   ]
  },
  {
   "cell_type": "code",
   "execution_count": 84,
   "metadata": {},
   "outputs": [],
   "source": [
    "#Try them out"
   ]
  },
  {
   "cell_type": "markdown",
   "metadata": {},
   "source": [
    "**From the results produced above, the answer is a big...**\n",
    "# NO\n",
    "\n",
    "\n",
    "1. Gives sum of all values\n",
    "2. Gives sum of columns\n",
    "3. Gives sum of rows\n",
    "\n",
    "The methods mentioned in Statistics column all have a parameter 'axis'. Try and find out how each time it performs a different function with changing values for 'axis'"
   ]
  },
  {
   "cell_type": "markdown",
   "metadata": {},
   "source": [
    "## And with that, we wrap up numpy..."
   ]
  },
  {
   "cell_type": "markdown",
   "metadata": {},
   "source": [
    "![That's all folks! See you in the next topic.](see-you.jpg)"
   ]
  }
 ],
 "metadata": {
  "kernelspec": {
   "display_name": "Python 3",
   "language": "python",
   "name": "python3"
  },
  "language_info": {
   "codemirror_mode": {
    "name": "ipython",
    "version": 3
   },
   "file_extension": ".py",
   "mimetype": "text/x-python",
   "name": "python",
   "nbconvert_exporter": "python",
   "pygments_lexer": "ipython3",
   "version": "3.7.3"
  }
 },
 "nbformat": 4,
 "nbformat_minor": 2
}
