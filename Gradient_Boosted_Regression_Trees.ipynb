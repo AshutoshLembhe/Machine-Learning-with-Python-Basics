{
  "nbformat": 4,
  "nbformat_minor": 0,
  "metadata": {
    "colab": {
      "name": "Gradient Boosted Regression Trees.ipynb",
      "provenance": [],
      "collapsed_sections": [],
      "authorship_tag": "ABX9TyOckvAEFuAs/ODvzAwu+45V",
      "include_colab_link": true
    },
    "kernelspec": {
      "name": "python3",
      "display_name": "Python 3"
    }
  },
  "cells": [
    {
      "cell_type": "markdown",
      "metadata": {
        "id": "view-in-github",
        "colab_type": "text"
      },
      "source": [
        "<a href=\"https://colab.research.google.com/github/AshutoshLembhe/Machine-Learning-with-Python-Basics/blob/master/Gradient_Boosted_Regression_Trees.ipynb\" target=\"_parent\"><img src=\"https://colab.research.google.com/assets/colab-badge.svg\" alt=\"Open In Colab\"/></a>"
      ]
    },
    {
      "cell_type": "code",
      "metadata": {
        "id": "3Gfrs3Xt-HYw",
        "colab_type": "code",
        "colab": {}
      },
      "source": [
        "#This method combines multiple decision tress to more powerful model.\n",
        "#Each Tree tries to correct the mistake of the previous model."
      ],
      "execution_count": 1,
      "outputs": []
    },
    {
      "cell_type": "code",
      "metadata": {
        "id": "7aUnAQbA-zgI",
        "colab_type": "code",
        "colab": {}
      },
      "source": [
        "import matplotlib.pyplot as plt\n"
      ],
      "execution_count": 2,
      "outputs": []
    },
    {
      "cell_type": "code",
      "metadata": {
        "id": "izWtjpItACAo",
        "colab_type": "code",
        "colab": {
          "base_uri": "https://localhost:8080/",
          "height": 50
        },
        "outputId": "87b8521e-f894-4f28-bd45-9b62697de6dd"
      },
      "source": [
        "from sklearn.model_selection import train_test_split\n",
        "from sklearn.ensemble import GradientBoostingClassifier\n",
        "from sklearn.datasets import load_breast_cancer\n",
        "cancer=load_breast_cancer()\n",
        "X_train, X_test, y_train, y_test = train_test_split(cancer.data, cancer.target, random_state=0)\n",
        "\n",
        "gbrt = GradientBoostingClassifier(random_state=0) \n",
        "gbrt.fit(X_train, y_train)\n",
        "print(\"accuracy on training set: %f\" % gbrt.score(X_train, y_train))\n",
        "print(\"accuracy on test set: %f\" % gbrt.score(X_test, y_test))\n"
      ],
      "execution_count": 8,
      "outputs": [
        {
          "output_type": "stream",
          "text": [
            "accuracy on training set: 1.000000\n",
            "accuracy on test set: 0.965035\n"
          ],
          "name": "stdout"
        }
      ]
    },
    {
      "cell_type": "code",
      "metadata": {
        "id": "3IizBsJlA1_Y",
        "colab_type": "code",
        "colab": {}
      },
      "source": [
        "#if training accuracy is 100% its likely overfitting"
      ],
      "execution_count": 9,
      "outputs": []
    },
    {
      "cell_type": "code",
      "metadata": {
        "id": "SN6aQnRnB33j",
        "colab_type": "code",
        "colab": {
          "base_uri": "https://localhost:8080/",
          "height": 50
        },
        "outputId": "bb222e5f-3d1c-414f-a126-ad26d4a57899"
      },
      "source": [
        "gbrt=GradientBoostingClassifier(random_state=0,max_depth=1)\n",
        "gbrt.fit(X_train,y_train)\n",
        "print(\"accuracy on training set: %f\" % gbrt.score(X_train, y_train))\n",
        "print(\"accuracy on test set: %f\" % gbrt.score(X_test, y_test))"
      ],
      "execution_count": 10,
      "outputs": [
        {
          "output_type": "stream",
          "text": [
            "accuracy on training set: 0.990610\n",
            "accuracy on test set: 0.972028\n"
          ],
          "name": "stdout"
        }
      ]
    },
    {
      "cell_type": "code",
      "metadata": {
        "id": "K_-66NBACG4-",
        "colab_type": "code",
        "colab": {
          "base_uri": "https://localhost:8080/",
          "height": 50
        },
        "outputId": "cf32f78f-b0b9-41d0-8677-63eb284ea8fd"
      },
      "source": [
        "gbrt=GradientBoostingClassifier(random_state=0,learning_rate=0.01)\n",
        "\n",
        "gbrt.fit(X_train,y_train)\n",
        "print(\"accuracy on training set: %f\" % gbrt.score(X_train, y_train))\n",
        "print(\"accuracy on test set: %f\" % gbrt.score(X_test, y_test))"
      ],
      "execution_count": 16,
      "outputs": [
        {
          "output_type": "stream",
          "text": [
            "accuracy on training set: 0.988263\n",
            "accuracy on test set: 0.965035\n"
          ],
          "name": "stdout"
        }
      ]
    },
    {
      "cell_type": "code",
      "metadata": {
        "id": "6NZ2T-tHCfCd",
        "colab_type": "code",
        "colab": {
          "base_uri": "https://localhost:8080/",
          "height": 374
        },
        "outputId": "8e9ac7d1-d703-483f-8540-58508eb251c9"
      },
      "source": [
        "#gbrt = GradientBoostingClassifier(random_state=0, max_depth=1) \n",
        "#gbrt.fit(X_train, y_train)\n",
        "plt.plot(gbrt.feature_importances_, 'o')\n",
        "plt.xticks(range(cancer.data.shape[1]), cancer.feature_names, rotation=90);"
      ],
      "execution_count": 19,
      "outputs": [
        {
          "output_type": "display_data",
          "data": {
            "image/png": "[encoded data removed]",
            "text/plain": [
              "<Figure size 432x288 with 1 Axes>"
            ]
          },
          "metadata": {
            "tags": [],
            "needs_background": "light"
          }
        }
      ]
    },
    {
      "cell_type": "code",
      "metadata": {
        "id": "zpXe3_bnDKvK",
        "colab_type": "code",
        "colab": {}
      },
      "source": [
        "#only thing with GBRT is that it requires fine tuning of the learing rate and max depth parameters"
      ],
      "execution_count": null,
      "outputs": []
    }
  ]
}